{
  "nbformat": 4,
  "nbformat_minor": 0,
  "metadata": {
    "colab": {
      "name": "ideal_robot11.ipynb",
      "provenance": [],
      "collapsed_sections": [],
      "authorship_tag": "ABX9TyNwy9T9yb0URUtmiobBKGZc",
      "include_colab_link": true
    },
    "kernelspec": {
      "name": "python3",
      "display_name": "Python 3"
    }
  },
  "cells": [
    {
      "cell_type": "markdown",
      "metadata": {
        "id": "view-in-github",
        "colab_type": "text"
      },
      "source": [
        "<a href=\"https://colab.research.google.com/github/ryootta/exercise/blob/master/ideal_robot11.ipynb\" target=\"_parent\"><img src=\"https://colab.research.google.com/assets/colab-badge.svg\" alt=\"Open In Colab\"/></a>"
      ]
    },
    {
      "cell_type": "code",
      "metadata": {
        "id": "7ifLVR8lH7yI",
        "colab_type": "code",
        "colab": {}
      },
      "source": [
        "import matplotlib\n",
        "matplotlib.use('nbagg')\n",
        "import matplotlib.animation as anm\n",
        "import matplotlib.pyplot as plt\n",
        "import math\n",
        "import matplotlib.patches as patches\n",
        "import numpy as np\n",
        "from IPython.display import HTML  "
      ],
      "execution_count": null,
      "outputs": []
    },
    {
      "cell_type": "code",
      "metadata": {
        "id": "RUkLGOk5ICfE",
        "colab_type": "code",
        "colab": {}
      },
      "source": [
        "class World:        ### fig:world_init_add_timespan (1-6行目)\n",
        "    def __init__(self, time_span, time_interval, debug=False): #time_span, time_intervalを追加\n",
        "        self.objects = []  \n",
        "        self.debug = debug\n",
        "        self.time_span = time_span                  # 追加\n",
        "        self.time_interval = time_interval          # 追加\n",
        "        \n",
        "    def append(self,obj):             # オブジェクトを登録するための関数\n",
        "        self.objects.append(obj)\n",
        "    \n",
        "    def draw(self):            ### fig:world_draw_with_timespan (11, 22-36行目)\n",
        "        fig = plt.figure(figsize=(4,4))                # 8x8 inchの図を準備\n",
        "        ax = fig.add_subplot(111)                      # サブプロットを準備\n",
        "        ax.set_aspect('equal')                         # 縦横比を座標の値と一致させる\n",
        "        ax.set_xlim(-5,5)                              # X軸を-5m x 5mの範囲で描画\n",
        "        ax.set_ylim(-5,5)                              # Y軸も同様に\n",
        "        ax.set_xlabel(\"X\",fontsize=10)                 # X軸にラベルを表示\n",
        "        ax.set_ylabel(\"Y\",fontsize=10)                 # 同じくY軸に\n",
        "        \n",
        "        elems = []\n",
        "        \n",
        "        if self.debug:        \n",
        "            for i in range(int(self.time_span/self.time_interval)): self.one_step(i, elems, ax)  #固定値から変更\n",
        "        else:\n",
        "            ### FuncAnimationのframes, intervalを変更 ###\n",
        "            self.ani = anm.FuncAnimation(fig, self.one_step, fargs=(elems, ax),\n",
        "                                     frames=int(self.time_span/self.time_interval)+1, interval=int(self.time_interval*1000), repeat=False)\n",
        "            plt.close()\n",
        "            return HTML(self.ani.to_jshtml())\n",
        "        \n",
        "    def one_step(self, i, elems, ax):\n",
        "        while elems: elems.pop().remove()\n",
        "        time_str = \"t = %.2f[s]\" % (self.time_interval*i)    # 時刻として表示する文字列\n",
        "        elems.append(ax.text(-4.4, 4.5, time_str, fontsize=10))\n",
        "        for obj in self.objects:\n",
        "            obj.draw(ax, elems)\n",
        "            if hasattr(obj, \"one_step\"): obj.one_step(self.time_interval)                 # 変更\n",
        "\n"
      ],
      "execution_count": null,
      "outputs": []
    },
    {
      "cell_type": "code",
      "metadata": {
        "id": "fbJmx173IJoO",
        "colab_type": "code",
        "colab": {}
      },
      "source": [
        "class IdealRobot:     \n",
        "    def __init__(self, pose, agent=None, sensor=None, color=\"black\"):\n",
        "        self.pose = pose        # 引数から姿勢の初期値を設定\n",
        "        self.r = 0.2            # これは描画のためなので固定値\n",
        "        self.color = color      # 引数から描画するときの色を設定\n",
        "        self.agent = agent\n",
        "        self.poses = [pose] \n",
        "        self.sensor = sensor\n",
        "    \n",
        "    def draw(self, ax, elems):\n",
        "        x, y, theta = self.pose                   # 姿勢の変数を分解して3つの変数へ\n",
        "        xn = x + self.r * math.cos(theta)         #  ロボットの鼻先のx座標 \n",
        "        yn = y + self.r * math.sin(theta)         #  ロボットの鼻先のy座標 \n",
        "        elems += ax.plot([x,xn], [y,yn], color=self.color) # ロボットの向きを示す線分の描画\n",
        "        c = patches.Circle(xy=(x, y), radius=self.r, fill=False, color=self.color) \n",
        "        elems.append(ax.add_patch(c))   # 上のpatches.Circleでロボットの胴体を示す円を作ってサブプロットへ登録\n",
        "        self.poses.append(self.pose)\n",
        "        elems += ax.plot([e[0] for e in self.poses], [e[1] for e in self.poses], linewidth=0.5, color=\"black\")\n",
        "        if self.sensor and len(self.poses) > 1:\n",
        "          self.sensor.draw(ax,elems,self.poses[-2])\n",
        "        if self.agent and hasattr(self.agent,\"draw\"):\n",
        "          self.agent.draw(ax, elems)\n",
        "            \n",
        "    @classmethod\n",
        "    def state_transition(self, nu, omega, time, pose):\n",
        "        t0 = pose[2]\n",
        "        if math.fabs(omega) < 1e-10:\n",
        "            return pose + np.array( [nu*math.cos(t0), \n",
        "                                     nu*math.sin(t0),\n",
        "                                     omega ] ) * time\n",
        "        else:\n",
        "            return pose + np.array( [nu/omega*(math.sin(t0 + omega*time) - math.sin(t0)), \n",
        "                                     nu/omega*(-math.cos(t0 + omega*time) + math.cos(t0)),\n",
        "                                     omega*time ] )\n",
        "\n",
        "    def one_step(self, time_interval):\n",
        "        if not self.agent: return\n",
        "        obs = self.sensor.data(self.pose) if self.sensor else None\n",
        "        nu, omega = self.agent.decision(obs) \n",
        "        self.pose = self.state_transition(nu, omega, time_interval, self.pose)"
      ],
      "execution_count": null,
      "outputs": []
    },
    {
      "cell_type": "code",
      "metadata": {
        "id": "14vvR6l-IN2-",
        "colab_type": "code",
        "colab": {}
      },
      "source": [
        "class Agent:\n",
        "    def __init__(self, nu, omega):\n",
        "        self.nu = nu\n",
        "        self.omega = omega\n",
        "        \n",
        "    def decision(self, observation=None):\n",
        "        return self.nu, self.omega"
      ],
      "execution_count": null,
      "outputs": []
    },
    {
      "cell_type": "code",
      "metadata": {
        "id": "CBQta_AjhJ08",
        "colab_type": "code",
        "colab": {}
      },
      "source": [
        "class Landmark:\n",
        "  def __init__(self,x,y):\n",
        "    self.pos = np.array([x,y]).T\n",
        "    self.id = None\n",
        "\n",
        "  def draw(self,ax,elems):\n",
        "    c = ax.scatter(self.pos[0],self.pos[1],s=100,marker=\"*\",label=\"landmarks\",color=\"orange\")\n",
        "    elems.append(c)\n",
        "    elems.append(ax.text(self.pos[0],self.pos[1],\"id:\"+str(self.id),fontsize=10))"
      ],
      "execution_count": null,
      "outputs": []
    },
    {
      "cell_type": "code",
      "metadata": {
        "id": "_dLQdCVyiTHR",
        "colab_type": "code",
        "colab": {}
      },
      "source": [
        "class Map:\n",
        "  def __init__(self):\n",
        "    self.landmarks = []\n",
        "\n",
        "  def append_landmark(self,landmark):\n",
        "    landmark.id =len(self.landmarks)\n",
        "    self.landmarks.append(landmark)\n",
        "\n",
        "  def draw(self,ax,elems):\n",
        "    for lm in self.landmarks: lm.draw(ax,elems)"
      ],
      "execution_count": null,
      "outputs": []
    },
    {
      "cell_type": "code",
      "metadata": {
        "id": "6OjznV8hqRoK",
        "colab_type": "code",
        "colab": {}
      },
      "source": [
        "class IdealCamera:\n",
        "  def __init__(self,env_map, distance_range=(0.5,6.0), direction_range=(-math.pi/3,math.pi/3)):\n",
        "    self.map = env_map\n",
        "    self.lastdata = []\n",
        "\n",
        "    self.distance_range=distance_range\n",
        "    self.direction_range=direction_range\n",
        "\n",
        "  def visible(self,polarpos):\n",
        "    if polarpos is None:\n",
        "      return False\n",
        "\n",
        "    return self.distance_range[0]<=polarpos[0]<=self.distance_range[1]\\\n",
        "     and self.direction_range[0]<=polarpos[1]<=self.direction_range[1]\n",
        "\n",
        "  def data(self,cam_pose):\n",
        "    observed = []\n",
        "    for lm in self.map.landmarks:\n",
        "      z = self.observation_functioin(cam_pose,lm.pos)\n",
        "      if self.visible(z):\n",
        "        observed.append((z,lm.id))\n",
        "\n",
        "    self.lastdata=observed\n",
        "    return observed\n",
        "\n",
        "  @classmethod\n",
        "  def observation_functioin(cls,cam_pose,obj_pos):\n",
        "    diff = obj_pos - cam_pose[0:2]\n",
        "    phi = math.atan2(diff[1],diff[0]) - cam_pose[2]\n",
        "    while phi >= np.pi: phi-=2*np.pi\n",
        "    while phi < -np.pi: phi+=2*np.pi\n",
        "    return np.array([np.hypot(*diff),phi]).T\n",
        "\n",
        "  def draw(self,ax,elems,cam_pose):\n",
        "    for lm in self.lastdata:\n",
        "      x,y,theta = cam_pose\n",
        "      distance,direction=lm[0][0],lm[0][1]\n",
        "      lx = x + distance*math.cos(direction+theta)\n",
        "      ly = y + distance*math.sin(direction+theta)\n",
        "      elems += ax.plot([x,lx],[y,ly],color=\"pink\")"
      ],
      "execution_count": null,
      "outputs": []
    },
    {
      "cell_type": "code",
      "metadata": {
        "id": "UKg55iCgIRia",
        "colab_type": "code",
        "colab": {}
      },
      "source": [
        "if __name__ == '__main__':\n",
        "  world = World(10, 0.1)   \n",
        "\n",
        "  ###地図を生成して3つランドマークを追加###\n",
        "  m = Map()\n",
        "  m.append_landmark(Landmark(2,-2))\n",
        "  m.append_landmark(Landmark(-1,-3))\n",
        "  m.append_landmark(Landmark(3,3))\n",
        "  world.append(m)\n",
        "  straight = Agent(0.2, 0.0)                # 0.2[m/s]で直進     \n",
        "  circling = Agent(0.2, 10.0/180*math.pi)   # 0.2[m/s], 10[deg/s]（円を描く\n",
        "  #robot1 = IdealRobot( np.array([ 2, 3, math.pi/6]).T, sensor=IdealCamera(m),agent=straight)  \n",
        "  robot2 = IdealRobot( np.array([-2, -1, math.pi/5*6]).T, sensor=IdealCamera(m), agent=circling, color=\"red\")  \n",
        "  #world.append(robot1)\n",
        "  world.append(robot2)\n",
        "  world.draw()"
      ],
      "execution_count": null,
      "outputs": []
    }
  ]
}