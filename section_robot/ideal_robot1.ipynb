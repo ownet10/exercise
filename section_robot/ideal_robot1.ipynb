{
  "nbformat": 4,
  "nbformat_minor": 0,
  "metadata": {
    "colab": {
      "name": "ideal_robot1.ipynb",
      "provenance": [],
      "collapsed_sections": [],
      "authorship_tag": "ABX9TyNbTv4L/v+namgO7Gow2OSI",
      "include_colab_link": true
    },
    "kernelspec": {
      "name": "python3",
      "display_name": "Python 3"
    }
  },
  "cells": [
    {
      "cell_type": "markdown",
      "metadata": {
        "id": "view-in-github",
        "colab_type": "text"
      },
      "source": [
        "<a href=\"https://colab.research.google.com/github/ownet10/exercise/blob/master/ideal_robot1.ipynb\" target=\"_parent\"><img src=\"https://colab.research.google.com/assets/colab-badge.svg\" alt=\"Open In Colab\"/></a>"
      ]
    },
    {
      "cell_type": "code",
      "metadata": {
        "id": "P_YrWxQT42gJ",
        "colab_type": "code",
        "colab": {}
      },
      "source": [
        "import matplotlib.pyplot as plt"
      ],
      "execution_count": null,
      "outputs": []
    },
    {
      "cell_type": "code",
      "metadata": {
        "id": "-7Xp1_qj5DVu",
        "colab_type": "code",
        "colab": {}
      },
      "source": [
        "class World:\n",
        "  def __init__(self):\n",
        "    self.objects = []\n",
        "\n",
        "  def append(self,obj):\n",
        "    self.objects.append(obj)\n",
        "\n",
        "  def draw(self):\n",
        "    fig = plt.figure(figsize=(8,8))\n",
        "    ax = fig.add_subplot(111)\n",
        "    ax.set_aspect('equal')\n",
        "    ax.set_xlim(-5,5)\n",
        "    ax.set_ylim(-5,5)\n",
        "    ax.set_xlabel(\"x\",fontsize=20)\n",
        "    ax.set_ylabel(\"y\",fontsize=20)\n",
        "\n",
        "    for obj in self.objects: obj.draw(ax)\n",
        "\n",
        "    plt.show()"
      ],
      "execution_count": null,
      "outputs": []
    },
    {
      "cell_type": "code",
      "metadata": {
        "id": "dCZJMXcV6YO9",
        "colab_type": "code",
        "colab": {
          "base_uri": "https://localhost:8080/",
          "height": 506
        },
        "outputId": "6073c7e6-e6b4-46ba-f0c0-3eccf5bbab97"
      },
      "source": [
        "world=World()\n",
        "world.draw()"
      ],
      "execution_count": null,
      "outputs": [
        {
          "output_type": "display_data",
          "data": {
            "image/png": "[encoded data removed]",
            "text/plain": [
              "<Figure size 576x576 with 1 Axes>"
            ]
          },
          "metadata": {
            "tags": [],
            "needs_background": "light"
          }
        }
      ]
    }
  ]
}